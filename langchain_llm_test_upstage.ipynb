{
 "cells": [
  {
   "metadata": {
    "ExecuteTime": {
     "end_time": "2025-10-05T12:14:45.741780Z",
     "start_time": "2025-10-05T12:14:43.647040Z"
    }
   },
   "cell_type": "code",
   "source": "%pip install langchain-openai dotenv",
   "id": "f766d4fc2c587db",
   "outputs": [
    {
     "name": "stdout",
     "output_type": "stream",
     "text": [
      "Collecting langchain-upstage\r\n",
      "  Downloading langchain_upstage-0.7.3-py3-none-any.whl.metadata (3.3 kB)\r\n",
      "Requirement already satisfied: dotenv in ./.venv/lib/python3.10/site-packages (0.9.9)\r\n",
      "Requirement already satisfied: langchain-core<0.4.0,>=0.3.29 in ./.venv/lib/python3.10/site-packages (from langchain-upstage) (0.3.78)\r\n",
      "Requirement already satisfied: langchain-openai<0.4,>=0.3 in ./.venv/lib/python3.10/site-packages (from langchain-upstage) (0.3.34)\r\n",
      "Collecting pypdf<5.0.0,>=4.2.0 (from langchain-upstage)\r\n",
      "  Downloading pypdf-4.3.1-py3-none-any.whl.metadata (7.4 kB)\r\n",
      "Requirement already satisfied: requests<3.0.0,>=2.31.0 in ./.venv/lib/python3.10/site-packages (from langchain-upstage) (2.32.5)\r\n",
      "Collecting tokenizers<0.21.0,>=0.20.0 (from langchain-upstage)\r\n",
      "  Downloading tokenizers-0.20.3-cp310-cp310-macosx_11_0_arm64.whl.metadata (6.7 kB)\r\n",
      "Requirement already satisfied: python-dotenv in ./.venv/lib/python3.10/site-packages (from dotenv) (1.1.1)\r\n",
      "Requirement already satisfied: langsmith<1.0.0,>=0.3.45 in ./.venv/lib/python3.10/site-packages (from langchain-core<0.4.0,>=0.3.29->langchain-upstage) (0.4.32)\r\n",
      "Requirement already satisfied: tenacity!=8.4.0,<10.0.0,>=8.1.0 in ./.venv/lib/python3.10/site-packages (from langchain-core<0.4.0,>=0.3.29->langchain-upstage) (9.1.2)\r\n",
      "Requirement already satisfied: jsonpatch<2.0.0,>=1.33.0 in ./.venv/lib/python3.10/site-packages (from langchain-core<0.4.0,>=0.3.29->langchain-upstage) (1.33)\r\n",
      "Requirement already satisfied: PyYAML<7.0.0,>=5.3.0 in ./.venv/lib/python3.10/site-packages (from langchain-core<0.4.0,>=0.3.29->langchain-upstage) (6.0.3)\r\n",
      "Requirement already satisfied: typing-extensions<5.0.0,>=4.7.0 in ./.venv/lib/python3.10/site-packages (from langchain-core<0.4.0,>=0.3.29->langchain-upstage) (4.15.0)\r\n",
      "Requirement already satisfied: packaging<26.0.0,>=23.2.0 in ./.venv/lib/python3.10/site-packages (from langchain-core<0.4.0,>=0.3.29->langchain-upstage) (24.2)\r\n",
      "Requirement already satisfied: pydantic<3.0.0,>=2.7.4 in ./.venv/lib/python3.10/site-packages (from langchain-core<0.4.0,>=0.3.29->langchain-upstage) (2.11.10)\r\n",
      "Requirement already satisfied: openai<3.0.0,>=1.104.2 in ./.venv/lib/python3.10/site-packages (from langchain-openai<0.4,>=0.3->langchain-upstage) (2.1.0)\r\n",
      "Requirement already satisfied: tiktoken<1.0.0,>=0.7.0 in ./.venv/lib/python3.10/site-packages (from langchain-openai<0.4,>=0.3->langchain-upstage) (0.11.0)\r\n",
      "Requirement already satisfied: charset_normalizer<4,>=2 in ./.venv/lib/python3.10/site-packages (from requests<3.0.0,>=2.31.0->langchain-upstage) (3.4.3)\r\n",
      "Requirement already satisfied: idna<4,>=2.5 in ./.venv/lib/python3.10/site-packages (from requests<3.0.0,>=2.31.0->langchain-upstage) (3.10)\r\n",
      "Requirement already satisfied: urllib3<3,>=1.21.1 in ./.venv/lib/python3.10/site-packages (from requests<3.0.0,>=2.31.0->langchain-upstage) (2.3.0)\r\n",
      "Requirement already satisfied: certifi>=2017.4.17 in ./.venv/lib/python3.10/site-packages (from requests<3.0.0,>=2.31.0->langchain-upstage) (2025.10.5)\r\n",
      "Requirement already satisfied: huggingface-hub<1.0,>=0.16.4 in ./.venv/lib/python3.10/site-packages (from tokenizers<0.21.0,>=0.20.0->langchain-upstage) (0.35.3)\r\n",
      "Requirement already satisfied: filelock in ./.venv/lib/python3.10/site-packages (from huggingface-hub<1.0,>=0.16.4->tokenizers<0.21.0,>=0.20.0->langchain-upstage) (3.19.1)\r\n",
      "Requirement already satisfied: fsspec>=2023.5.0 in ./.venv/lib/python3.10/site-packages (from huggingface-hub<1.0,>=0.16.4->tokenizers<0.21.0,>=0.20.0->langchain-upstage) (2025.9.0)\r\n",
      "Requirement already satisfied: tqdm>=4.42.1 in ./.venv/lib/python3.10/site-packages (from huggingface-hub<1.0,>=0.16.4->tokenizers<0.21.0,>=0.20.0->langchain-upstage) (4.67.1)\r\n",
      "Requirement already satisfied: hf-xet<2.0.0,>=1.1.3 in ./.venv/lib/python3.10/site-packages (from huggingface-hub<1.0,>=0.16.4->tokenizers<0.21.0,>=0.20.0->langchain-upstage) (1.1.10)\r\n",
      "Requirement already satisfied: jsonpointer>=1.9 in ./.venv/lib/python3.10/site-packages (from jsonpatch<2.0.0,>=1.33.0->langchain-core<0.4.0,>=0.3.29->langchain-upstage) (3.0.0)\r\n",
      "Requirement already satisfied: httpx<1,>=0.23.0 in ./.venv/lib/python3.10/site-packages (from langsmith<1.0.0,>=0.3.45->langchain-core<0.4.0,>=0.3.29->langchain-upstage) (0.28.1)\r\n",
      "Requirement already satisfied: orjson>=3.9.14 in ./.venv/lib/python3.10/site-packages (from langsmith<1.0.0,>=0.3.45->langchain-core<0.4.0,>=0.3.29->langchain-upstage) (3.11.3)\r\n",
      "Requirement already satisfied: requests-toolbelt>=1.0.0 in ./.venv/lib/python3.10/site-packages (from langsmith<1.0.0,>=0.3.45->langchain-core<0.4.0,>=0.3.29->langchain-upstage) (1.0.0)\r\n",
      "Requirement already satisfied: zstandard>=0.23.0 in ./.venv/lib/python3.10/site-packages (from langsmith<1.0.0,>=0.3.45->langchain-core<0.4.0,>=0.3.29->langchain-upstage) (0.25.0)\r\n",
      "Requirement already satisfied: anyio<5,>=3.5.0 in ./.venv/lib/python3.10/site-packages (from openai<3.0.0,>=1.104.2->langchain-openai<0.4,>=0.3->langchain-upstage) (4.11.0)\r\n",
      "Requirement already satisfied: distro<2,>=1.7.0 in ./.venv/lib/python3.10/site-packages (from openai<3.0.0,>=1.104.2->langchain-openai<0.4,>=0.3->langchain-upstage) (1.9.0)\r\n",
      "Requirement already satisfied: jiter<1,>=0.4.0 in ./.venv/lib/python3.10/site-packages (from openai<3.0.0,>=1.104.2->langchain-openai<0.4,>=0.3->langchain-upstage) (0.11.0)\r\n",
      "Requirement already satisfied: sniffio in ./.venv/lib/python3.10/site-packages (from openai<3.0.0,>=1.104.2->langchain-openai<0.4,>=0.3->langchain-upstage) (1.3.1)\r\n",
      "Requirement already satisfied: annotated-types>=0.6.0 in ./.venv/lib/python3.10/site-packages (from pydantic<3.0.0,>=2.7.4->langchain-core<0.4.0,>=0.3.29->langchain-upstage) (0.7.0)\r\n",
      "Requirement already satisfied: pydantic-core==2.33.2 in ./.venv/lib/python3.10/site-packages (from pydantic<3.0.0,>=2.7.4->langchain-core<0.4.0,>=0.3.29->langchain-upstage) (2.33.2)\r\n",
      "Requirement already satisfied: typing-inspection>=0.4.0 in ./.venv/lib/python3.10/site-packages (from pydantic<3.0.0,>=2.7.4->langchain-core<0.4.0,>=0.3.29->langchain-upstage) (0.4.2)\r\n",
      "Requirement already satisfied: regex>=2022.1.18 in ./.venv/lib/python3.10/site-packages (from tiktoken<1.0.0,>=0.7.0->langchain-openai<0.4,>=0.3->langchain-upstage) (2025.9.18)\r\n",
      "Requirement already satisfied: exceptiongroup>=1.0.2 in ./.venv/lib/python3.10/site-packages (from anyio<5,>=3.5.0->openai<3.0.0,>=1.104.2->langchain-openai<0.4,>=0.3->langchain-upstage) (1.3.0)\r\n",
      "Requirement already satisfied: httpcore==1.* in ./.venv/lib/python3.10/site-packages (from httpx<1,>=0.23.0->langsmith<1.0.0,>=0.3.45->langchain-core<0.4.0,>=0.3.29->langchain-upstage) (1.0.9)\r\n",
      "Requirement already satisfied: h11>=0.16 in ./.venv/lib/python3.10/site-packages (from httpcore==1.*->httpx<1,>=0.23.0->langsmith<1.0.0,>=0.3.45->langchain-core<0.4.0,>=0.3.29->langchain-upstage) (0.16.0)\r\n",
      "Downloading langchain_upstage-0.7.3-py3-none-any.whl (25 kB)\r\n",
      "Downloading pypdf-4.3.1-py3-none-any.whl (295 kB)\r\n",
      "Downloading tokenizers-0.20.3-cp310-cp310-macosx_11_0_arm64.whl (2.6 MB)\r\n",
      "\u001B[2K   \u001B[90m━━━━━━━━━━━━━━━━━━━━━━━━━━━━━━━━━━━━━━━━\u001B[0m \u001B[32m2.6/2.6 MB\u001B[0m \u001B[31m11.1 MB/s\u001B[0m eta \u001B[36m0:00:00\u001B[0ma \u001B[36m0:00:01\u001B[0m\r\n",
      "\u001B[?25hInstalling collected packages: pypdf, tokenizers, langchain-upstage\r\n",
      "  Attempting uninstall: tokenizers\r\n",
      "    Found existing installation: tokenizers 0.22.1\r\n",
      "    Uninstalling tokenizers-0.22.1:\r\n",
      "      Successfully uninstalled tokenizers-0.22.1\r\n",
      "Successfully installed langchain-upstage-0.7.3 pypdf-4.3.1 tokenizers-0.20.3\r\n",
      "\r\n",
      "\u001B[1m[\u001B[0m\u001B[34;49mnotice\u001B[0m\u001B[1;39;49m]\u001B[0m\u001B[39;49m A new release of pip is available: \u001B[0m\u001B[31;49m25.0.1\u001B[0m\u001B[39;49m -> \u001B[0m\u001B[32;49m25.2\u001B[0m\r\n",
      "\u001B[1m[\u001B[0m\u001B[34;49mnotice\u001B[0m\u001B[1;39;49m]\u001B[0m\u001B[39;49m To update, run: \u001B[0m\u001B[32;49mpip install --upgrade pip\u001B[0m\r\n",
      "Note: you may need to restart the kernel to use updated packages.\n"
     ]
    }
   ],
   "execution_count": 7
  },
  {
   "metadata": {
    "ExecuteTime": {
     "end_time": "2025-10-05T12:14:51.740084Z",
     "start_time": "2025-10-05T12:14:51.735642Z"
    }
   },
   "cell_type": "code",
   "source": [
    "from dotenv import load_dotenv\n",
    "\n",
    "load_dotenv(dotenv_path=\"./.env\")"
   ],
   "id": "3e37c151686651aa",
   "outputs": [
    {
     "data": {
      "text/plain": [
       "True"
      ]
     },
     "execution_count": 8,
     "metadata": {},
     "output_type": "execute_result"
    }
   ],
   "execution_count": 8
  },
  {
   "metadata": {
    "ExecuteTime": {
     "end_time": "2025-10-05T11:13:35.790641Z",
     "start_time": "2025-10-05T11:13:35.392221Z"
    }
   },
   "cell_type": "code",
   "source": [
    "from langchain_openai import ChatOpenAI\n",
    "llm = ChatOpenAI()\n"
   ],
   "id": "5244f62508d7add6",
   "outputs": [],
   "execution_count": 4
  },
  {
   "metadata": {
    "ExecuteTime": {
     "end_time": "2025-10-05T11:13:41.717009Z",
     "start_time": "2025-10-05T11:13:38.615501Z"
    }
   },
   "cell_type": "code",
   "source": "ai_message = llm.invoke(\"인프런에 어떤 강의가 있나요?\")",
   "id": "479abaf3f27eddf3",
   "outputs": [],
   "execution_count": 5
  },
  {
   "metadata": {
    "ExecuteTime": {
     "end_time": "2025-10-05T11:13:46.751369Z",
     "start_time": "2025-10-05T11:13:46.748752Z"
    }
   },
   "cell_type": "code",
   "source": "ai_message",
   "id": "44c2ef4d07621380",
   "outputs": [
    {
     "data": {
      "text/plain": [
       "AIMessage(content='인프런에는 다양한 분야의 강의가 있습니다. 프로그래밍, 웹 개발, 데이터 분석, 마케팅, 디자인, 비즈니스, 외국어 등 다양한 주제의 강의를 수강할 수 있습니다. 또한, 실무에 바로 적용할 수 있는 실무 강의나 자격증 취득을 위한 강의도 제공하고 있습니다. 관심 있는 주제나 분야에 따라 수많은 강의를 찾아보실 수 있습니다.', additional_kwargs={'refusal': None}, response_metadata={'token_usage': {'completion_tokens': 164, 'prompt_tokens': 26, 'total_tokens': 190, 'completion_tokens_details': {'accepted_prediction_tokens': 0, 'audio_tokens': 0, 'reasoning_tokens': 0, 'rejected_prediction_tokens': 0}, 'prompt_tokens_details': {'audio_tokens': 0, 'cached_tokens': 0}}, 'model_name': 'gpt-3.5-turbo-0125', 'system_fingerprint': None, 'id': 'chatcmpl-CNGyJMBsFM8wAyyVb8qrDuqOAUy4C', 'service_tier': 'default', 'finish_reason': 'stop', 'logprobs': None}, id='run--2882f495-39b0-4c38-8ea7-177220ea09d4-0', usage_metadata={'input_tokens': 26, 'output_tokens': 164, 'total_tokens': 190, 'input_token_details': {'audio': 0, 'cache_read': 0}, 'output_token_details': {'audio': 0, 'reasoning': 0}})"
      ]
     },
     "execution_count": 6,
     "metadata": {},
     "output_type": "execute_result"
    }
   ],
   "execution_count": 6
  },
  {
   "metadata": {},
   "cell_type": "code",
   "outputs": [],
   "execution_count": null,
   "source": "",
   "id": "13cb89b297714b"
  }
 ],
 "metadata": {},
 "nbformat": 4,
 "nbformat_minor": 5
}
