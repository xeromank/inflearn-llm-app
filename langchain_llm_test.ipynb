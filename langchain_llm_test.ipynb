{
 "cells": [
  {
   "metadata": {
    "ExecuteTime": {
     "end_time": "2025-10-03T14:13:02.252939Z",
     "start_time": "2025-10-03T14:13:01.439336Z"
    }
   },
   "cell_type": "code",
   "source": "%pip install langchain-ollama\n",
   "id": "f766d4fc2c587db",
   "outputs": [
    {
     "name": "stdout",
     "output_type": "stream",
     "text": [
      "Defaulting to user installation because normal site-packages is not writeable\r\n",
      "Collecting langchain-ollama\r\n",
      "  Downloading langchain_ollama-0.3.10-py3-none-any.whl.metadata (2.1 kB)\r\n",
      "Collecting ollama<1.0.0,>=0.5.3 (from langchain-ollama)\r\n",
      "  Downloading ollama-0.6.0-py3-none-any.whl.metadata (4.3 kB)\r\n",
      "Requirement already satisfied: langchain-core<2.0.0,>=0.3.76 in /Users/xeroman.k/Library/Python/3.9/lib/python/site-packages (from langchain-ollama) (0.3.77)\r\n",
      "Requirement already satisfied: langsmith<1.0.0,>=0.3.45 in /Users/xeroman.k/Library/Python/3.9/lib/python/site-packages (from langchain-core<2.0.0,>=0.3.76->langchain-ollama) (0.4.32)\r\n",
      "Requirement already satisfied: tenacity!=8.4.0,<10.0.0,>=8.1.0 in /Users/xeroman.k/Library/Python/3.9/lib/python/site-packages (from langchain-core<2.0.0,>=0.3.76->langchain-ollama) (9.1.2)\r\n",
      "Requirement already satisfied: jsonpatch<2.0.0,>=1.33.0 in /Users/xeroman.k/Library/Python/3.9/lib/python/site-packages (from langchain-core<2.0.0,>=0.3.76->langchain-ollama) (1.33)\r\n",
      "Requirement already satisfied: PyYAML<7.0.0,>=5.3.0 in /Users/xeroman.k/Library/Python/3.9/lib/python/site-packages (from langchain-core<2.0.0,>=0.3.76->langchain-ollama) (6.0.3)\r\n",
      "Requirement already satisfied: typing-extensions<5.0.0,>=4.7.0 in /Users/xeroman.k/Library/Python/3.9/lib/python/site-packages (from langchain-core<2.0.0,>=0.3.76->langchain-ollama) (4.15.0)\r\n",
      "Requirement already satisfied: packaging<26.0.0,>=23.2.0 in /Users/xeroman.k/Library/Python/3.9/lib/python/site-packages (from langchain-core<2.0.0,>=0.3.76->langchain-ollama) (25.0)\r\n",
      "Requirement already satisfied: pydantic<3.0.0,>=2.7.4 in /Users/xeroman.k/Library/Python/3.9/lib/python/site-packages (from langchain-core<2.0.0,>=0.3.76->langchain-ollama) (2.11.9)\r\n",
      "Requirement already satisfied: jsonpointer>=1.9 in /Users/xeroman.k/Library/Python/3.9/lib/python/site-packages (from jsonpatch<2.0.0,>=1.33.0->langchain-core<2.0.0,>=0.3.76->langchain-ollama) (3.0.0)\r\n",
      "Requirement already satisfied: httpx<1,>=0.23.0 in /Users/xeroman.k/Library/Python/3.9/lib/python/site-packages (from langsmith<1.0.0,>=0.3.45->langchain-core<2.0.0,>=0.3.76->langchain-ollama) (0.28.1)\r\n",
      "Requirement already satisfied: orjson>=3.9.14 in /Users/xeroman.k/Library/Python/3.9/lib/python/site-packages (from langsmith<1.0.0,>=0.3.45->langchain-core<2.0.0,>=0.3.76->langchain-ollama) (3.11.3)\r\n",
      "Requirement already satisfied: requests-toolbelt>=1.0.0 in /Users/xeroman.k/Library/Python/3.9/lib/python/site-packages (from langsmith<1.0.0,>=0.3.45->langchain-core<2.0.0,>=0.3.76->langchain-ollama) (1.0.0)\r\n",
      "Requirement already satisfied: requests>=2.0.0 in /Users/xeroman.k/Library/Python/3.9/lib/python/site-packages (from langsmith<1.0.0,>=0.3.45->langchain-core<2.0.0,>=0.3.76->langchain-ollama) (2.32.5)\r\n",
      "Requirement already satisfied: zstandard>=0.23.0 in /Users/xeroman.k/Library/Python/3.9/lib/python/site-packages (from langsmith<1.0.0,>=0.3.45->langchain-core<2.0.0,>=0.3.76->langchain-ollama) (0.25.0)\r\n",
      "Requirement already satisfied: anyio in /Users/xeroman.k/Library/Python/3.9/lib/python/site-packages (from httpx<1,>=0.23.0->langsmith<1.0.0,>=0.3.45->langchain-core<2.0.0,>=0.3.76->langchain-ollama) (4.11.0)\r\n",
      "Requirement already satisfied: certifi in /Users/xeroman.k/Library/Python/3.9/lib/python/site-packages (from httpx<1,>=0.23.0->langsmith<1.0.0,>=0.3.45->langchain-core<2.0.0,>=0.3.76->langchain-ollama) (2023.5.7)\r\n",
      "Requirement already satisfied: httpcore==1.* in /Users/xeroman.k/Library/Python/3.9/lib/python/site-packages (from httpx<1,>=0.23.0->langsmith<1.0.0,>=0.3.45->langchain-core<2.0.0,>=0.3.76->langchain-ollama) (1.0.9)\r\n",
      "Requirement already satisfied: idna in /Users/xeroman.k/Library/Python/3.9/lib/python/site-packages (from httpx<1,>=0.23.0->langsmith<1.0.0,>=0.3.45->langchain-core<2.0.0,>=0.3.76->langchain-ollama) (3.10)\r\n",
      "Requirement already satisfied: h11>=0.16 in /Users/xeroman.k/Library/Python/3.9/lib/python/site-packages (from httpcore==1.*->httpx<1,>=0.23.0->langsmith<1.0.0,>=0.3.45->langchain-core<2.0.0,>=0.3.76->langchain-ollama) (0.16.0)\r\n",
      "Requirement already satisfied: annotated-types>=0.6.0 in /Users/xeroman.k/Library/Python/3.9/lib/python/site-packages (from pydantic<3.0.0,>=2.7.4->langchain-core<2.0.0,>=0.3.76->langchain-ollama) (0.7.0)\r\n",
      "Requirement already satisfied: pydantic-core==2.33.2 in /Users/xeroman.k/Library/Python/3.9/lib/python/site-packages (from pydantic<3.0.0,>=2.7.4->langchain-core<2.0.0,>=0.3.76->langchain-ollama) (2.33.2)\r\n",
      "Requirement already satisfied: typing-inspection>=0.4.0 in /Users/xeroman.k/Library/Python/3.9/lib/python/site-packages (from pydantic<3.0.0,>=2.7.4->langchain-core<2.0.0,>=0.3.76->langchain-ollama) (0.4.2)\r\n",
      "Requirement already satisfied: charset_normalizer<4,>=2 in /Users/xeroman.k/Library/Python/3.9/lib/python/site-packages (from requests>=2.0.0->langsmith<1.0.0,>=0.3.45->langchain-core<2.0.0,>=0.3.76->langchain-ollama) (3.4.3)\r\n",
      "Requirement already satisfied: urllib3<3,>=1.21.1 in /Users/xeroman.k/Library/Python/3.9/lib/python/site-packages (from requests>=2.0.0->langsmith<1.0.0,>=0.3.45->langchain-core<2.0.0,>=0.3.76->langchain-ollama) (2.5.0)\r\n",
      "Requirement already satisfied: exceptiongroup>=1.0.2 in /Users/xeroman.k/Library/Python/3.9/lib/python/site-packages (from anyio->httpx<1,>=0.23.0->langsmith<1.0.0,>=0.3.45->langchain-core<2.0.0,>=0.3.76->langchain-ollama) (1.3.0)\r\n",
      "Requirement already satisfied: sniffio>=1.1 in /Users/xeroman.k/Library/Python/3.9/lib/python/site-packages (from anyio->httpx<1,>=0.23.0->langsmith<1.0.0,>=0.3.45->langchain-core<2.0.0,>=0.3.76->langchain-ollama) (1.3.1)\r\n",
      "Downloading langchain_ollama-0.3.10-py3-none-any.whl (27 kB)\r\n",
      "Downloading ollama-0.6.0-py3-none-any.whl (14 kB)\r\n",
      "Installing collected packages: ollama, langchain-ollama\r\n",
      "\u001B[2K   \u001B[90m━━━━━━━━━━━━━━━━━━━━━━━━━━━━━━━━━━━━━━━━\u001B[0m \u001B[32m2/2\u001B[0m [langchain-ollama]\r\n",
      "\u001B[1A\u001B[2KSuccessfully installed langchain-ollama-0.3.10 ollama-0.6.0\r\n",
      "Note: you may need to restart the kernel to use updated packages.\n"
     ]
    }
   ],
   "execution_count": 3
  },
  {
   "metadata": {
    "ExecuteTime": {
     "end_time": "2025-10-03T14:13:27.324865Z",
     "start_time": "2025-10-03T14:13:27.317048Z"
    }
   },
   "cell_type": "code",
   "source": [
    "from dotenv import load_dotenv\n",
    "\n",
    "load_dotenv(dotenv_path=\"./.env\")"
   ],
   "id": "3e37c151686651aa",
   "outputs": [
    {
     "data": {
      "text/plain": [
       "True"
      ]
     },
     "execution_count": 1,
     "metadata": {},
     "output_type": "execute_result"
    }
   ],
   "execution_count": 1
  },
  {
   "metadata": {
    "ExecuteTime": {
     "end_time": "2025-10-03T14:31:00.032097Z",
     "start_time": "2025-10-03T14:30:59.666122Z"
    }
   },
   "cell_type": "code",
   "source": [
    "from langchain_openai import ChatOpenAI\n",
    "# from langchain_ollama import OllamaLLM\n",
    "\n",
    "llm = ChatOpenAI()\n",
    "# llm = OllamaLLM(model=\"llama3.2\")\n"
   ],
   "id": "5244f62508d7add6",
   "outputs": [],
   "execution_count": 9
  },
  {
   "metadata": {
    "ExecuteTime": {
     "end_time": "2025-10-03T14:31:03.297129Z",
     "start_time": "2025-10-03T14:31:00.688857Z"
    }
   },
   "cell_type": "code",
   "source": "ai_message = llm.invoke(\"인프런에 어떤 강의가 있나요?\")",
   "id": "479abaf3f27eddf3",
   "outputs": [],
   "execution_count": 10
  },
  {
   "metadata": {
    "ExecuteTime": {
     "end_time": "2025-10-03T14:31:06.082169Z",
     "start_time": "2025-10-03T14:31:06.077656Z"
    }
   },
   "cell_type": "code",
   "source": "ai_message",
   "id": "44c2ef4d07621380",
   "outputs": [
    {
     "data": {
      "text/plain": [
       "AIMessage(content='인프런에는 다양한 분야의 강의가 있습니다. 프로그래밍, 디자인, 비즈니스, 마케팅, 외국어 등 다양한 주제의 강의가 제공되고 있습니다. 원하는 분야나 관심 있는 주제에 맞춰 강의를 선택하고 수강할 수 있습니다. 인프런 홈페이지에서 원하는 강의를 검색해보세요.', additional_kwargs={'refusal': None}, response_metadata={'token_usage': {'completion_tokens': 126, 'prompt_tokens': 26, 'total_tokens': 152, 'completion_tokens_details': {'accepted_prediction_tokens': 0, 'audio_tokens': 0, 'reasoning_tokens': 0, 'rejected_prediction_tokens': 0}, 'prompt_tokens_details': {'audio_tokens': 0, 'cached_tokens': 0}}, 'model_name': 'gpt-3.5-turbo-0125', 'system_fingerprint': None, 'id': 'chatcmpl-CMb6DsxzlAYhnAVvggGQtRZOd4PRv', 'service_tier': 'default', 'finish_reason': 'stop', 'logprobs': None}, id='run--67d4c9d6-7841-4a3d-90c4-869e83a613da-0', usage_metadata={'input_tokens': 26, 'output_tokens': 126, 'total_tokens': 152, 'input_token_details': {'audio': 0, 'cache_read': 0}, 'output_token_details': {'audio': 0, 'reasoning': 0}})"
      ]
     },
     "execution_count": 11,
     "metadata": {},
     "output_type": "execute_result"
    }
   ],
   "execution_count": 11
  },
  {
   "metadata": {},
   "cell_type": "code",
   "outputs": [],
   "execution_count": null,
   "source": "",
   "id": "13cb89b297714b"
  }
 ],
 "metadata": {},
 "nbformat": 4,
 "nbformat_minor": 5
}
