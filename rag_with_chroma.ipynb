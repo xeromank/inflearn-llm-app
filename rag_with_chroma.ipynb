{
 "cells": [
  {
   "cell_type": "code",
   "id": "initial_id",
   "metadata": {
    "collapsed": true,
    "ExecuteTime": {
     "end_time": "2025-10-04T05:14:46.497700Z",
     "start_time": "2025-10-04T05:14:40.252595Z"
    }
   },
   "source": [
    "from IPython import embed\n",
    "from dotenv import load_dotenv\n",
    "from jupyter_server.auth.security import persist_config\n",
    "\n",
    "from langchain_llm_test import ai_message\n",
    "%pip install --upgrade --quiet  docx2txt langchain-community\n"
   ],
   "outputs": [
    {
     "name": "stdout",
     "output_type": "stream",
     "text": [
      "\r\n",
      "\u001B[1m[\u001B[0m\u001B[34;49mnotice\u001B[0m\u001B[1;39;49m]\u001B[0m\u001B[39;49m A new release of pip is available: \u001B[0m\u001B[31;49m25.0.1\u001B[0m\u001B[39;49m -> \u001B[0m\u001B[32;49m25.2\u001B[0m\r\n",
      "\u001B[1m[\u001B[0m\u001B[34;49mnotice\u001B[0m\u001B[1;39;49m]\u001B[0m\u001B[39;49m To update, run: \u001B[0m\u001B[32;49mpip install --upgrade pip\u001B[0m\r\n",
      "Note: you may need to restart the kernel to use updated packages.\n"
     ]
    }
   ],
   "execution_count": 1
  },
  {
   "metadata": {},
   "cell_type": "code",
   "outputs": [],
   "execution_count": null,
   "source": "%pip install -qU langchain-text-splitters\n",
   "id": "d64d398d89790f9a"
  },
  {
   "metadata": {
    "ExecuteTime": {
     "end_time": "2025-10-04T05:32:49.085467Z",
     "start_time": "2025-10-04T05:32:34.838853Z"
    }
   },
   "cell_type": "code",
   "source": "%pip install langchain-chroma",
   "id": "b7e2ef35b1cba8d",
   "outputs": [
    {
     "name": "stdout",
     "output_type": "stream",
     "text": [
      "Collecting langchain-chroma\r\n",
      "  Downloading langchain_chroma-0.2.6-py3-none-any.whl.metadata (1.1 kB)\r\n",
      "Requirement already satisfied: langchain-core>=0.3.76 in ./.venv/lib/python3.13/site-packages (from langchain-chroma) (0.3.78)\r\n",
      "Requirement already satisfied: numpy>=2.1.0 in ./.venv/lib/python3.13/site-packages (from langchain-chroma) (2.3.3)\r\n",
      "Collecting chromadb>=1.0.20 (from langchain-chroma)\r\n",
      "  Downloading chromadb-1.1.0-cp39-abi3-macosx_11_0_arm64.whl.metadata (7.2 kB)\r\n",
      "Collecting build>=1.0.3 (from chromadb>=1.0.20->langchain-chroma)\r\n",
      "  Downloading build-1.3.0-py3-none-any.whl.metadata (5.6 kB)\r\n",
      "Requirement already satisfied: pydantic>=1.9 in ./.venv/lib/python3.13/site-packages (from chromadb>=1.0.20->langchain-chroma) (2.11.9)\r\n",
      "Collecting pybase64>=1.4.1 (from chromadb>=1.0.20->langchain-chroma)\r\n",
      "  Downloading pybase64-1.4.2-cp313-cp313-macosx_11_0_arm64.whl.metadata (8.7 kB)\r\n",
      "Collecting uvicorn>=0.18.3 (from uvicorn[standard]>=0.18.3->chromadb>=1.0.20->langchain-chroma)\r\n",
      "  Downloading uvicorn-0.37.0-py3-none-any.whl.metadata (6.6 kB)\r\n",
      "Collecting posthog<6.0.0,>=2.4.0 (from chromadb>=1.0.20->langchain-chroma)\r\n",
      "  Downloading posthog-5.4.0-py3-none-any.whl.metadata (5.7 kB)\r\n",
      "Requirement already satisfied: typing-extensions>=4.5.0 in ./.venv/lib/python3.13/site-packages (from chromadb>=1.0.20->langchain-chroma) (4.15.0)\r\n",
      "Collecting onnxruntime>=1.14.1 (from chromadb>=1.0.20->langchain-chroma)\r\n",
      "  Downloading onnxruntime-1.23.0-cp313-cp313-macosx_13_0_arm64.whl.metadata (4.9 kB)\r\n",
      "Collecting opentelemetry-api>=1.2.0 (from chromadb>=1.0.20->langchain-chroma)\r\n",
      "  Downloading opentelemetry_api-1.37.0-py3-none-any.whl.metadata (1.5 kB)\r\n",
      "Collecting opentelemetry-exporter-otlp-proto-grpc>=1.2.0 (from chromadb>=1.0.20->langchain-chroma)\r\n",
      "  Downloading opentelemetry_exporter_otlp_proto_grpc-1.37.0-py3-none-any.whl.metadata (2.4 kB)\r\n",
      "Collecting opentelemetry-sdk>=1.2.0 (from chromadb>=1.0.20->langchain-chroma)\r\n",
      "  Downloading opentelemetry_sdk-1.37.0-py3-none-any.whl.metadata (1.5 kB)\r\n",
      "Requirement already satisfied: tokenizers>=0.13.2 in ./.venv/lib/python3.13/site-packages (from chromadb>=1.0.20->langchain-chroma) (0.20.3)\r\n",
      "Collecting pypika>=0.48.9 (from chromadb>=1.0.20->langchain-chroma)\r\n",
      "  Downloading PyPika-0.48.9.tar.gz (67 kB)\r\n",
      "  Installing build dependencies ... \u001B[?25ldone\r\n",
      "\u001B[?25h  Getting requirements to build wheel ... \u001B[?25ldone\r\n",
      "\u001B[?25h  Preparing metadata (pyproject.toml) ... \u001B[?25ldone\r\n",
      "\u001B[?25hRequirement already satisfied: tqdm>=4.65.0 in ./.venv/lib/python3.13/site-packages (from chromadb>=1.0.20->langchain-chroma) (4.67.1)\r\n",
      "Collecting overrides>=7.3.1 (from chromadb>=1.0.20->langchain-chroma)\r\n",
      "  Downloading overrides-7.7.0-py3-none-any.whl.metadata (5.8 kB)\r\n",
      "Collecting importlib-resources (from chromadb>=1.0.20->langchain-chroma)\r\n",
      "  Downloading importlib_resources-6.5.2-py3-none-any.whl.metadata (3.9 kB)\r\n",
      "Collecting grpcio>=1.58.0 (from chromadb>=1.0.20->langchain-chroma)\r\n",
      "  Downloading grpcio-1.75.1-cp313-cp313-macosx_11_0_universal2.whl.metadata (3.7 kB)\r\n",
      "Collecting bcrypt>=4.0.1 (from chromadb>=1.0.20->langchain-chroma)\r\n",
      "  Downloading bcrypt-5.0.0-cp39-abi3-macosx_10_12_universal2.whl.metadata (10 kB)\r\n",
      "Collecting typer>=0.9.0 (from chromadb>=1.0.20->langchain-chroma)\r\n",
      "  Downloading typer-0.19.2-py3-none-any.whl.metadata (16 kB)\r\n",
      "Collecting kubernetes>=28.1.0 (from chromadb>=1.0.20->langchain-chroma)\r\n",
      "  Downloading kubernetes-34.1.0-py2.py3-none-any.whl.metadata (1.7 kB)\r\n",
      "Requirement already satisfied: tenacity>=8.2.3 in ./.venv/lib/python3.13/site-packages (from chromadb>=1.0.20->langchain-chroma) (9.1.2)\r\n",
      "Requirement already satisfied: pyyaml>=6.0.0 in ./.venv/lib/python3.13/site-packages (from chromadb>=1.0.20->langchain-chroma) (6.0.3)\r\n",
      "Collecting mmh3>=4.0.1 (from chromadb>=1.0.20->langchain-chroma)\r\n",
      "  Downloading mmh3-5.2.0-cp313-cp313-macosx_11_0_arm64.whl.metadata (14 kB)\r\n",
      "Requirement already satisfied: orjson>=3.9.12 in ./.venv/lib/python3.13/site-packages (from chromadb>=1.0.20->langchain-chroma) (3.11.3)\r\n",
      "Requirement already satisfied: httpx>=0.27.0 in ./.venv/lib/python3.13/site-packages (from chromadb>=1.0.20->langchain-chroma) (0.28.1)\r\n",
      "Collecting rich>=10.11.0 (from chromadb>=1.0.20->langchain-chroma)\r\n",
      "  Downloading rich-14.1.0-py3-none-any.whl.metadata (18 kB)\r\n",
      "Requirement already satisfied: jsonschema>=4.19.0 in ./.venv/lib/python3.13/site-packages (from chromadb>=1.0.20->langchain-chroma) (4.25.1)\r\n",
      "Requirement already satisfied: langsmith<1.0.0,>=0.3.45 in ./.venv/lib/python3.13/site-packages (from langchain-core>=0.3.76->langchain-chroma) (0.4.32)\r\n",
      "Requirement already satisfied: jsonpatch<2.0.0,>=1.33.0 in ./.venv/lib/python3.13/site-packages (from langchain-core>=0.3.76->langchain-chroma) (1.33)\r\n",
      "Requirement already satisfied: packaging<26.0.0,>=23.2.0 in ./.venv/lib/python3.13/site-packages (from langchain-core>=0.3.76->langchain-chroma) (25.0)\r\n",
      "Collecting pyproject_hooks (from build>=1.0.3->chromadb>=1.0.20->langchain-chroma)\r\n",
      "  Downloading pyproject_hooks-1.2.0-py3-none-any.whl.metadata (1.3 kB)\r\n",
      "Requirement already satisfied: anyio in ./.venv/lib/python3.13/site-packages (from httpx>=0.27.0->chromadb>=1.0.20->langchain-chroma) (4.11.0)\r\n",
      "Requirement already satisfied: certifi in ./.venv/lib/python3.13/site-packages (from httpx>=0.27.0->chromadb>=1.0.20->langchain-chroma) (2025.8.3)\r\n",
      "Requirement already satisfied: httpcore==1.* in ./.venv/lib/python3.13/site-packages (from httpx>=0.27.0->chromadb>=1.0.20->langchain-chroma) (1.0.9)\r\n",
      "Requirement already satisfied: idna in ./.venv/lib/python3.13/site-packages (from httpx>=0.27.0->chromadb>=1.0.20->langchain-chroma) (3.10)\r\n",
      "Requirement already satisfied: h11>=0.16 in ./.venv/lib/python3.13/site-packages (from httpcore==1.*->httpx>=0.27.0->chromadb>=1.0.20->langchain-chroma) (0.16.0)\r\n",
      "Requirement already satisfied: jsonpointer>=1.9 in ./.venv/lib/python3.13/site-packages (from jsonpatch<2.0.0,>=1.33.0->langchain-core>=0.3.76->langchain-chroma) (3.0.0)\r\n",
      "Requirement already satisfied: attrs>=22.2.0 in ./.venv/lib/python3.13/site-packages (from jsonschema>=4.19.0->chromadb>=1.0.20->langchain-chroma) (25.3.0)\r\n",
      "Requirement already satisfied: jsonschema-specifications>=2023.03.6 in ./.venv/lib/python3.13/site-packages (from jsonschema>=4.19.0->chromadb>=1.0.20->langchain-chroma) (2025.9.1)\r\n",
      "Requirement already satisfied: referencing>=0.28.4 in ./.venv/lib/python3.13/site-packages (from jsonschema>=4.19.0->chromadb>=1.0.20->langchain-chroma) (0.36.2)\r\n",
      "Requirement already satisfied: rpds-py>=0.7.1 in ./.venv/lib/python3.13/site-packages (from jsonschema>=4.19.0->chromadb>=1.0.20->langchain-chroma) (0.27.1)\r\n",
      "Requirement already satisfied: six>=1.9.0 in ./.venv/lib/python3.13/site-packages (from kubernetes>=28.1.0->chromadb>=1.0.20->langchain-chroma) (1.17.0)\r\n",
      "Requirement already satisfied: python-dateutil>=2.5.3 in ./.venv/lib/python3.13/site-packages (from kubernetes>=28.1.0->chromadb>=1.0.20->langchain-chroma) (2.9.0.post0)\r\n",
      "Collecting google-auth>=1.0.1 (from kubernetes>=28.1.0->chromadb>=1.0.20->langchain-chroma)\r\n",
      "  Downloading google_auth-2.41.1-py2.py3-none-any.whl.metadata (6.6 kB)\r\n",
      "Requirement already satisfied: websocket-client!=0.40.0,!=0.41.*,!=0.42.*,>=0.32.0 in ./.venv/lib/python3.13/site-packages (from kubernetes>=28.1.0->chromadb>=1.0.20->langchain-chroma) (1.8.0)\r\n",
      "Requirement already satisfied: requests in ./.venv/lib/python3.13/site-packages (from kubernetes>=28.1.0->chromadb>=1.0.20->langchain-chroma) (2.32.5)\r\n",
      "Collecting requests-oauthlib (from kubernetes>=28.1.0->chromadb>=1.0.20->langchain-chroma)\r\n",
      "  Downloading requests_oauthlib-2.0.0-py2.py3-none-any.whl.metadata (11 kB)\r\n",
      "Collecting urllib3<2.4.0,>=1.24.2 (from kubernetes>=28.1.0->chromadb>=1.0.20->langchain-chroma)\r\n",
      "  Downloading urllib3-2.3.0-py3-none-any.whl.metadata (6.5 kB)\r\n",
      "Collecting durationpy>=0.7 (from kubernetes>=28.1.0->chromadb>=1.0.20->langchain-chroma)\r\n",
      "  Downloading durationpy-0.10-py3-none-any.whl.metadata (340 bytes)\r\n",
      "Requirement already satisfied: requests-toolbelt>=1.0.0 in ./.venv/lib/python3.13/site-packages (from langsmith<1.0.0,>=0.3.45->langchain-core>=0.3.76->langchain-chroma) (1.0.0)\r\n",
      "Requirement already satisfied: zstandard>=0.23.0 in ./.venv/lib/python3.13/site-packages (from langsmith<1.0.0,>=0.3.45->langchain-core>=0.3.76->langchain-chroma) (0.25.0)\r\n",
      "Collecting coloredlogs (from onnxruntime>=1.14.1->chromadb>=1.0.20->langchain-chroma)\r\n",
      "  Downloading coloredlogs-15.0.1-py2.py3-none-any.whl.metadata (12 kB)\r\n",
      "Collecting flatbuffers (from onnxruntime>=1.14.1->chromadb>=1.0.20->langchain-chroma)\r\n",
      "  Downloading flatbuffers-25.9.23-py2.py3-none-any.whl.metadata (875 bytes)\r\n",
      "Collecting protobuf (from onnxruntime>=1.14.1->chromadb>=1.0.20->langchain-chroma)\r\n",
      "  Downloading protobuf-6.32.1-cp39-abi3-macosx_10_9_universal2.whl.metadata (593 bytes)\r\n",
      "Collecting sympy (from onnxruntime>=1.14.1->chromadb>=1.0.20->langchain-chroma)\r\n",
      "  Downloading sympy-1.14.0-py3-none-any.whl.metadata (12 kB)\r\n",
      "Collecting importlib-metadata<8.8.0,>=6.0 (from opentelemetry-api>=1.2.0->chromadb>=1.0.20->langchain-chroma)\r\n",
      "  Downloading importlib_metadata-8.7.0-py3-none-any.whl.metadata (4.8 kB)\r\n",
      "Collecting googleapis-common-protos~=1.57 (from opentelemetry-exporter-otlp-proto-grpc>=1.2.0->chromadb>=1.0.20->langchain-chroma)\r\n",
      "  Downloading googleapis_common_protos-1.70.0-py3-none-any.whl.metadata (9.3 kB)\r\n",
      "Collecting opentelemetry-exporter-otlp-proto-common==1.37.0 (from opentelemetry-exporter-otlp-proto-grpc>=1.2.0->chromadb>=1.0.20->langchain-chroma)\r\n",
      "  Downloading opentelemetry_exporter_otlp_proto_common-1.37.0-py3-none-any.whl.metadata (1.8 kB)\r\n",
      "Collecting opentelemetry-proto==1.37.0 (from opentelemetry-exporter-otlp-proto-grpc>=1.2.0->chromadb>=1.0.20->langchain-chroma)\r\n",
      "  Downloading opentelemetry_proto-1.37.0-py3-none-any.whl.metadata (2.3 kB)\r\n",
      "Collecting opentelemetry-semantic-conventions==0.58b0 (from opentelemetry-sdk>=1.2.0->chromadb>=1.0.20->langchain-chroma)\r\n",
      "  Downloading opentelemetry_semantic_conventions-0.58b0-py3-none-any.whl.metadata (2.4 kB)\r\n",
      "Collecting backoff>=1.10.0 (from posthog<6.0.0,>=2.4.0->chromadb>=1.0.20->langchain-chroma)\r\n",
      "  Downloading backoff-2.2.1-py3-none-any.whl.metadata (14 kB)\r\n",
      "Requirement already satisfied: distro>=1.5.0 in ./.venv/lib/python3.13/site-packages (from posthog<6.0.0,>=2.4.0->chromadb>=1.0.20->langchain-chroma) (1.9.0)\r\n",
      "Requirement already satisfied: annotated-types>=0.6.0 in ./.venv/lib/python3.13/site-packages (from pydantic>=1.9->chromadb>=1.0.20->langchain-chroma) (0.7.0)\r\n",
      "Requirement already satisfied: pydantic-core==2.33.2 in ./.venv/lib/python3.13/site-packages (from pydantic>=1.9->chromadb>=1.0.20->langchain-chroma) (2.33.2)\r\n",
      "Requirement already satisfied: typing-inspection>=0.4.0 in ./.venv/lib/python3.13/site-packages (from pydantic>=1.9->chromadb>=1.0.20->langchain-chroma) (0.4.2)\r\n",
      "Collecting markdown-it-py>=2.2.0 (from rich>=10.11.0->chromadb>=1.0.20->langchain-chroma)\r\n",
      "  Downloading markdown_it_py-4.0.0-py3-none-any.whl.metadata (7.3 kB)\r\n",
      "Requirement already satisfied: pygments<3.0.0,>=2.13.0 in ./.venv/lib/python3.13/site-packages (from rich>=10.11.0->chromadb>=1.0.20->langchain-chroma) (2.19.2)\r\n",
      "Requirement already satisfied: huggingface-hub<1.0,>=0.16.4 in ./.venv/lib/python3.13/site-packages (from tokenizers>=0.13.2->chromadb>=1.0.20->langchain-chroma) (0.35.3)\r\n",
      "Collecting click>=8.0.0 (from typer>=0.9.0->chromadb>=1.0.20->langchain-chroma)\r\n",
      "  Downloading click-8.3.0-py3-none-any.whl.metadata (2.6 kB)\r\n",
      "Collecting shellingham>=1.3.0 (from typer>=0.9.0->chromadb>=1.0.20->langchain-chroma)\r\n",
      "  Downloading shellingham-1.5.4-py2.py3-none-any.whl.metadata (3.5 kB)\r\n",
      "Collecting httptools>=0.6.3 (from uvicorn[standard]>=0.18.3->chromadb>=1.0.20->langchain-chroma)\r\n",
      "  Downloading httptools-0.6.4-cp313-cp313-macosx_11_0_arm64.whl.metadata (3.6 kB)\r\n",
      "Requirement already satisfied: python-dotenv>=0.13 in ./.venv/lib/python3.13/site-packages (from uvicorn[standard]>=0.18.3->chromadb>=1.0.20->langchain-chroma) (1.1.1)\r\n",
      "Collecting uvloop>=0.15.1 (from uvicorn[standard]>=0.18.3->chromadb>=1.0.20->langchain-chroma)\r\n",
      "  Downloading uvloop-0.21.0-cp313-cp313-macosx_10_13_universal2.whl.metadata (4.9 kB)\r\n",
      "Collecting watchfiles>=0.13 (from uvicorn[standard]>=0.18.3->chromadb>=1.0.20->langchain-chroma)\r\n",
      "  Downloading watchfiles-1.1.0-cp313-cp313-macosx_11_0_arm64.whl.metadata (4.9 kB)\r\n",
      "Collecting websockets>=10.4 (from uvicorn[standard]>=0.18.3->chromadb>=1.0.20->langchain-chroma)\r\n",
      "  Downloading websockets-15.0.1-cp313-cp313-macosx_11_0_arm64.whl.metadata (6.8 kB)\r\n",
      "Collecting cachetools<7.0,>=2.0.0 (from google-auth>=1.0.1->kubernetes>=28.1.0->chromadb>=1.0.20->langchain-chroma)\r\n",
      "  Downloading cachetools-6.2.0-py3-none-any.whl.metadata (5.4 kB)\r\n",
      "Collecting pyasn1-modules>=0.2.1 (from google-auth>=1.0.1->kubernetes>=28.1.0->chromadb>=1.0.20->langchain-chroma)\r\n",
      "  Downloading pyasn1_modules-0.4.2-py3-none-any.whl.metadata (3.5 kB)\r\n",
      "Collecting rsa<5,>=3.1.4 (from google-auth>=1.0.1->kubernetes>=28.1.0->chromadb>=1.0.20->langchain-chroma)\r\n",
      "  Downloading rsa-4.9.1-py3-none-any.whl.metadata (5.6 kB)\r\n",
      "Requirement already satisfied: filelock in ./.venv/lib/python3.13/site-packages (from huggingface-hub<1.0,>=0.16.4->tokenizers>=0.13.2->chromadb>=1.0.20->langchain-chroma) (3.19.1)\r\n",
      "Requirement already satisfied: fsspec>=2023.5.0 in ./.venv/lib/python3.13/site-packages (from huggingface-hub<1.0,>=0.16.4->tokenizers>=0.13.2->chromadb>=1.0.20->langchain-chroma) (2025.9.0)\r\n",
      "Requirement already satisfied: hf-xet<2.0.0,>=1.1.3 in ./.venv/lib/python3.13/site-packages (from huggingface-hub<1.0,>=0.16.4->tokenizers>=0.13.2->chromadb>=1.0.20->langchain-chroma) (1.1.10)\r\n",
      "Collecting zipp>=3.20 (from importlib-metadata<8.8.0,>=6.0->opentelemetry-api>=1.2.0->chromadb>=1.0.20->langchain-chroma)\r\n",
      "  Downloading zipp-3.23.0-py3-none-any.whl.metadata (3.6 kB)\r\n",
      "Collecting mdurl~=0.1 (from markdown-it-py>=2.2.0->rich>=10.11.0->chromadb>=1.0.20->langchain-chroma)\r\n",
      "  Downloading mdurl-0.1.2-py3-none-any.whl.metadata (1.6 kB)\r\n",
      "Requirement already satisfied: charset_normalizer<4,>=2 in ./.venv/lib/python3.13/site-packages (from requests->kubernetes>=28.1.0->chromadb>=1.0.20->langchain-chroma) (3.4.3)\r\n",
      "Requirement already satisfied: sniffio>=1.1 in ./.venv/lib/python3.13/site-packages (from anyio->httpx>=0.27.0->chromadb>=1.0.20->langchain-chroma) (1.3.1)\r\n",
      "Collecting humanfriendly>=9.1 (from coloredlogs->onnxruntime>=1.14.1->chromadb>=1.0.20->langchain-chroma)\r\n",
      "  Downloading humanfriendly-10.0-py2.py3-none-any.whl.metadata (9.2 kB)\r\n",
      "Collecting oauthlib>=3.0.0 (from requests-oauthlib->kubernetes>=28.1.0->chromadb>=1.0.20->langchain-chroma)\r\n",
      "  Downloading oauthlib-3.3.1-py3-none-any.whl.metadata (7.9 kB)\r\n",
      "Collecting mpmath<1.4,>=1.1.0 (from sympy->onnxruntime>=1.14.1->chromadb>=1.0.20->langchain-chroma)\r\n",
      "  Downloading mpmath-1.3.0-py3-none-any.whl.metadata (8.6 kB)\r\n",
      "Collecting pyasn1<0.7.0,>=0.6.1 (from pyasn1-modules>=0.2.1->google-auth>=1.0.1->kubernetes>=28.1.0->chromadb>=1.0.20->langchain-chroma)\r\n",
      "  Downloading pyasn1-0.6.1-py3-none-any.whl.metadata (8.4 kB)\r\n",
      "Downloading langchain_chroma-0.2.6-py3-none-any.whl (12 kB)\r\n",
      "Downloading chromadb-1.1.0-cp39-abi3-macosx_11_0_arm64.whl (18.2 MB)\r\n",
      "\u001B[2K   \u001B[90m━━━━━━━━━━━━━━━━━━━━━━━━━━━━━━━━━━━━━━━━\u001B[0m \u001B[32m18.2/18.2 MB\u001B[0m \u001B[31m36.0 MB/s\u001B[0m eta \u001B[36m0:00:00\u001B[0ma \u001B[36m0:00:01\u001B[0m\r\n",
      "\u001B[?25hDownloading bcrypt-5.0.0-cp39-abi3-macosx_10_12_universal2.whl (495 kB)\r\n",
      "Downloading build-1.3.0-py3-none-any.whl (23 kB)\r\n",
      "Downloading grpcio-1.75.1-cp313-cp313-macosx_11_0_universal2.whl (11.5 MB)\r\n",
      "\u001B[2K   \u001B[90m━━━━━━━━━━━━━━━━━━━━━━━━━━━━━━━━━━━━━━━━\u001B[0m \u001B[32m11.5/11.5 MB\u001B[0m \u001B[31m38.5 MB/s\u001B[0m eta \u001B[36m0:00:00\u001B[0m \u001B[36m0:00:01\u001B[0m\r\n",
      "\u001B[?25hDownloading kubernetes-34.1.0-py2.py3-none-any.whl (2.0 MB)\r\n",
      "\u001B[2K   \u001B[90m━━━━━━━━━━━━━━━━━━━━━━━━━━━━━━━━━━━━━━━━\u001B[0m \u001B[32m2.0/2.0 MB\u001B[0m \u001B[31m32.0 MB/s\u001B[0m eta \u001B[36m0:00:00\u001B[0m\r\n",
      "\u001B[?25hDownloading mmh3-5.2.0-cp313-cp313-macosx_11_0_arm64.whl (40 kB)\r\n",
      "Downloading onnxruntime-1.23.0-cp313-cp313-macosx_13_0_arm64.whl (17.1 MB)\r\n",
      "\u001B[2K   \u001B[90m━━━━━━━━━━━━━━━━━━━━━━━━━━━━━━━━━━━━━━━━\u001B[0m \u001B[32m17.1/17.1 MB\u001B[0m \u001B[31m36.1 MB/s\u001B[0m eta \u001B[36m0:00:00\u001B[0ma \u001B[36m0:00:01\u001B[0m\r\n",
      "\u001B[?25hDownloading opentelemetry_api-1.37.0-py3-none-any.whl (65 kB)\r\n",
      "Downloading opentelemetry_exporter_otlp_proto_grpc-1.37.0-py3-none-any.whl (19 kB)\r\n",
      "Downloading opentelemetry_exporter_otlp_proto_common-1.37.0-py3-none-any.whl (18 kB)\r\n",
      "Downloading opentelemetry_proto-1.37.0-py3-none-any.whl (72 kB)\r\n",
      "Downloading opentelemetry_sdk-1.37.0-py3-none-any.whl (131 kB)\r\n",
      "Downloading opentelemetry_semantic_conventions-0.58b0-py3-none-any.whl (207 kB)\r\n",
      "Downloading overrides-7.7.0-py3-none-any.whl (17 kB)\r\n",
      "Downloading posthog-5.4.0-py3-none-any.whl (105 kB)\r\n",
      "Downloading pybase64-1.4.2-cp313-cp313-macosx_11_0_arm64.whl (31 kB)\r\n",
      "Downloading rich-14.1.0-py3-none-any.whl (243 kB)\r\n",
      "Downloading typer-0.19.2-py3-none-any.whl (46 kB)\r\n",
      "Downloading uvicorn-0.37.0-py3-none-any.whl (67 kB)\r\n",
      "Downloading importlib_resources-6.5.2-py3-none-any.whl (37 kB)\r\n",
      "Downloading backoff-2.2.1-py3-none-any.whl (15 kB)\r\n",
      "Downloading click-8.3.0-py3-none-any.whl (107 kB)\r\n",
      "Downloading durationpy-0.10-py3-none-any.whl (3.9 kB)\r\n",
      "Downloading google_auth-2.41.1-py2.py3-none-any.whl (221 kB)\r\n",
      "Downloading googleapis_common_protos-1.70.0-py3-none-any.whl (294 kB)\r\n",
      "Downloading httptools-0.6.4-cp313-cp313-macosx_11_0_arm64.whl (102 kB)\r\n",
      "Downloading importlib_metadata-8.7.0-py3-none-any.whl (27 kB)\r\n",
      "Downloading markdown_it_py-4.0.0-py3-none-any.whl (87 kB)\r\n",
      "Downloading protobuf-6.32.1-cp39-abi3-macosx_10_9_universal2.whl (426 kB)\r\n",
      "Downloading shellingham-1.5.4-py2.py3-none-any.whl (9.8 kB)\r\n",
      "Downloading urllib3-2.3.0-py3-none-any.whl (128 kB)\r\n",
      "Downloading uvloop-0.21.0-cp313-cp313-macosx_10_13_universal2.whl (1.5 MB)\r\n",
      "\u001B[2K   \u001B[90m━━━━━━━━━━━━━━━━━━━━━━━━━━━━━━━━━━━━━━━━\u001B[0m \u001B[32m1.5/1.5 MB\u001B[0m \u001B[31m25.5 MB/s\u001B[0m eta \u001B[36m0:00:00\u001B[0m\r\n",
      "\u001B[?25hDownloading watchfiles-1.1.0-cp313-cp313-macosx_11_0_arm64.whl (393 kB)\r\n",
      "Downloading websockets-15.0.1-cp313-cp313-macosx_11_0_arm64.whl (173 kB)\r\n",
      "Downloading coloredlogs-15.0.1-py2.py3-none-any.whl (46 kB)\r\n",
      "Downloading flatbuffers-25.9.23-py2.py3-none-any.whl (30 kB)\r\n",
      "Downloading pyproject_hooks-1.2.0-py3-none-any.whl (10 kB)\r\n",
      "Downloading requests_oauthlib-2.0.0-py2.py3-none-any.whl (24 kB)\r\n",
      "Downloading sympy-1.14.0-py3-none-any.whl (6.3 MB)\r\n",
      "\u001B[2K   \u001B[90m━━━━━━━━━━━━━━━━━━━━━━━━━━━━━━━━━━━━━━━━\u001B[0m \u001B[32m6.3/6.3 MB\u001B[0m \u001B[31m36.8 MB/s\u001B[0m eta \u001B[36m0:00:00\u001B[0m\r\n",
      "\u001B[?25hDownloading cachetools-6.2.0-py3-none-any.whl (11 kB)\r\n",
      "Downloading humanfriendly-10.0-py2.py3-none-any.whl (86 kB)\r\n",
      "Downloading mdurl-0.1.2-py3-none-any.whl (10.0 kB)\r\n",
      "Downloading mpmath-1.3.0-py3-none-any.whl (536 kB)\r\n",
      "\u001B[2K   \u001B[90m━━━━━━━━━━━━━━━━━━━━━━━━━━━━━━━━━━━━━━━━\u001B[0m \u001B[32m536.2/536.2 kB\u001B[0m \u001B[31m16.8 MB/s\u001B[0m eta \u001B[36m0:00:00\u001B[0m\r\n",
      "\u001B[?25hDownloading oauthlib-3.3.1-py3-none-any.whl (160 kB)\r\n",
      "Downloading pyasn1_modules-0.4.2-py3-none-any.whl (181 kB)\r\n",
      "Downloading rsa-4.9.1-py3-none-any.whl (34 kB)\r\n",
      "Downloading zipp-3.23.0-py3-none-any.whl (10 kB)\r\n",
      "Downloading pyasn1-0.6.1-py3-none-any.whl (83 kB)\r\n",
      "Building wheels for collected packages: pypika\r\n",
      "  Building wheel for pypika (pyproject.toml) ... \u001B[?25ldone\r\n",
      "\u001B[?25h  Created wheel for pypika: filename=pypika-0.48.9-py2.py3-none-any.whl size=53803 sha256=7c6e90f77e79cca1980c5c0a87fc52c110b79718d2f5b5ba2d9a4111d2069f63\r\n",
      "  Stored in directory: /Users/xeroman.k/Library/Caches/pip/wheels/b4/f8/a5/28e9c1524d320f4b8eefdce0e487b5c2e128dbf2ed1bb4a60b\r\n",
      "Successfully built pypika\r\n",
      "Installing collected packages: pypika, mpmath, flatbuffers, durationpy, zipp, websockets, uvloop, urllib3, sympy, shellingham, pyproject_hooks, pybase64, pyasn1, protobuf, overrides, oauthlib, mmh3, mdurl, importlib-resources, humanfriendly, httptools, grpcio, click, cachetools, bcrypt, backoff, watchfiles, uvicorn, rsa, pyasn1-modules, opentelemetry-proto, markdown-it-py, importlib-metadata, googleapis-common-protos, coloredlogs, build, rich, requests-oauthlib, posthog, opentelemetry-exporter-otlp-proto-common, opentelemetry-api, onnxruntime, google-auth, typer, opentelemetry-semantic-conventions, kubernetes, opentelemetry-sdk, opentelemetry-exporter-otlp-proto-grpc, chromadb, langchain-chroma\r\n",
      "  Attempting uninstall: urllib3\r\n",
      "    Found existing installation: urllib3 2.5.0\r\n",
      "    Uninstalling urllib3-2.5.0:\r\n",
      "      Successfully uninstalled urllib3-2.5.0\r\n",
      "Successfully installed backoff-2.2.1 bcrypt-5.0.0 build-1.3.0 cachetools-6.2.0 chromadb-1.1.0 click-8.3.0 coloredlogs-15.0.1 durationpy-0.10 flatbuffers-25.9.23 google-auth-2.41.1 googleapis-common-protos-1.70.0 grpcio-1.75.1 httptools-0.6.4 humanfriendly-10.0 importlib-metadata-8.7.0 importlib-resources-6.5.2 kubernetes-34.1.0 langchain-chroma-0.2.6 markdown-it-py-4.0.0 mdurl-0.1.2 mmh3-5.2.0 mpmath-1.3.0 oauthlib-3.3.1 onnxruntime-1.23.0 opentelemetry-api-1.37.0 opentelemetry-exporter-otlp-proto-common-1.37.0 opentelemetry-exporter-otlp-proto-grpc-1.37.0 opentelemetry-proto-1.37.0 opentelemetry-sdk-1.37.0 opentelemetry-semantic-conventions-0.58b0 overrides-7.7.0 posthog-5.4.0 protobuf-6.32.1 pyasn1-0.6.1 pyasn1-modules-0.4.2 pybase64-1.4.2 pypika-0.48.9 pyproject_hooks-1.2.0 requests-oauthlib-2.0.0 rich-14.1.0 rsa-4.9.1 shellingham-1.5.4 sympy-1.14.0 typer-0.19.2 urllib3-2.3.0 uvicorn-0.37.0 uvloop-0.21.0 watchfiles-1.1.0 websockets-15.0.1 zipp-3.23.0\r\n",
      "\r\n",
      "\u001B[1m[\u001B[0m\u001B[34;49mnotice\u001B[0m\u001B[1;39;49m]\u001B[0m\u001B[39;49m A new release of pip is available: \u001B[0m\u001B[31;49m25.0.1\u001B[0m\u001B[39;49m -> \u001B[0m\u001B[32;49m25.2\u001B[0m\r\n",
      "\u001B[1m[\u001B[0m\u001B[34;49mnotice\u001B[0m\u001B[1;39;49m]\u001B[0m\u001B[39;49m To update, run: \u001B[0m\u001B[32;49mpip install --upgrade pip\u001B[0m\r\n",
      "Note: you may need to restart the kernel to use updated packages.\n"
     ]
    }
   ],
   "execution_count": 12
  },
  {
   "metadata": {},
   "cell_type": "code",
   "outputs": [],
   "execution_count": null,
   "source": "%pip install -U langchain langchainhub --quiet\n",
   "id": "29f0602d566d45d2"
  },
  {
   "metadata": {
    "ExecuteTime": {
     "end_time": "2025-10-04T05:57:39.136359Z",
     "start_time": "2025-10-04T05:57:37.584684Z"
    }
   },
   "cell_type": "code",
   "source": [
    "from langchain_community.document_loaders import Docx2txtLoader\n",
    "from langchain_text_splitters import RecursiveCharacterTextSplitter\n",
    "\n",
    "text_splitter = RecursiveCharacterTextSplitter(\n",
    "    chunk_size=1500,\n",
    "    chunk_overlap=200,\n",
    ")\n",
    "\n",
    "loader = Docx2txtLoader(\"./tax_docs/tax_with_table.docx\")\n",
    "document_list = loader.load_and_split(text_splitter=text_splitter)"
   ],
   "id": "72e316c4a1b22dfe",
   "outputs": [],
   "execution_count": 54
  },
  {
   "metadata": {
    "ExecuteTime": {
     "end_time": "2025-10-04T05:57:45.425490Z",
     "start_time": "2025-10-04T05:57:45.422611Z"
    }
   },
   "cell_type": "code",
   "source": "len(document_list)",
   "id": "6f2f68266870c7bb",
   "outputs": [
    {
     "data": {
      "text/plain": [
       "225"
      ]
     },
     "execution_count": 55,
     "metadata": {},
     "output_type": "execute_result"
    }
   ],
   "execution_count": 55
  },
  {
   "metadata": {
    "ExecuteTime": {
     "end_time": "2025-10-04T05:57:47.449120Z",
     "start_time": "2025-10-04T05:57:47.430838Z"
    }
   },
   "cell_type": "code",
   "source": [
    "from dotenv import load_dotenv\n",
    "from langchain_openai import OpenAIEmbeddings\n",
    "\n",
    "load_dotenv()\n",
    "embedding = OpenAIEmbeddings(\n",
    "    model = \"text-embedding-3-large\"\n",
    ")"
   ],
   "id": "33f3711a52144aca",
   "outputs": [],
   "execution_count": 56
  },
  {
   "metadata": {
    "ExecuteTime": {
     "end_time": "2025-10-04T05:57:49.324464Z",
     "start_time": "2025-10-04T05:57:49.318455Z"
    }
   },
   "cell_type": "code",
   "source": [
    "from langchain_chroma import Chroma\n",
    "\n",
    "# database = Chroma.from_documents(documents=document_list, embedding=embedding, persist_directory=\"./chroma\", collection_name=\"chroma-tax\")\n",
    "database = Chroma(persist_directory=\"./chroma\", collection_name=\"chroma-tax\", embedding_function=embedding)"
   ],
   "id": "26a5ed33e86f39ba",
   "outputs": [],
   "execution_count": 57
  },
  {
   "metadata": {
    "ExecuteTime": {
     "end_time": "2025-10-04T05:57:50.610711Z",
     "start_time": "2025-10-04T05:57:50.608124Z"
    }
   },
   "cell_type": "code",
   "source": [
    "query = '연봉 5천만원인 직장인의 소득세는 얼마인가요?'\n",
    "\n",
    "# retrieved_docs = database.similarity_search(query, 3)"
   ],
   "id": "6c17f3ae3bae912b",
   "outputs": [],
   "execution_count": 58
  },
  {
   "metadata": {
    "ExecuteTime": {
     "end_time": "2025-10-04T05:57:51.600881Z",
     "start_time": "2025-10-04T05:57:51.597492Z"
    }
   },
   "cell_type": "code",
   "source": [
    "from langchain_openai import ChatOpenAI\n",
    "llm = ChatOpenAI(model='gpt-4o')\n"
   ],
   "id": "de8b4dfedf940ff2",
   "outputs": [],
   "execution_count": 59
  },
  {
   "metadata": {
    "ExecuteTime": {
     "end_time": "2025-10-04T05:58:04.787515Z",
     "start_time": "2025-10-04T05:58:04.785523Z"
    }
   },
   "cell_type": "code",
   "source": "# ai_message = llm.invoke(prompt)",
   "id": "4bfd5490751b7e3b",
   "outputs": [],
   "execution_count": 60
  },
  {
   "metadata": {
    "ExecuteTime": {
     "end_time": "2025-10-04T05:58:06.241711Z",
     "start_time": "2025-10-04T05:58:06.239355Z"
    }
   },
   "cell_type": "code",
   "source": "# ai_message.content",
   "id": "c5ebf84a198753a2",
   "outputs": [],
   "execution_count": 61
  },
  {
   "metadata": {
    "ExecuteTime": {
     "end_time": "2025-10-04T05:58:07.654283Z",
     "start_time": "2025-10-04T05:58:07.438633Z"
    }
   },
   "cell_type": "code",
   "source": [
    "from langchain import hub\n",
    "\n",
    "prompt = hub.pull(\"rlm/rag-prompt\")"
   ],
   "id": "63c360ebfe30244",
   "outputs": [],
   "execution_count": 62
  },
  {
   "metadata": {
    "ExecuteTime": {
     "end_time": "2025-10-04T05:58:08.772287Z",
     "start_time": "2025-10-04T05:58:08.768301Z"
    }
   },
   "cell_type": "code",
   "source": "prompt",
   "id": "7f877c922a18b5a3",
   "outputs": [
    {
     "data": {
      "text/plain": [
       "ChatPromptTemplate(input_variables=['context', 'question'], input_types={}, partial_variables={}, metadata={'lc_hub_owner': 'rlm', 'lc_hub_repo': 'rag-prompt', 'lc_hub_commit_hash': '50442af133e61576e74536c6556cefe1fac147cad032f4377b60c436e6cdcb6e'}, messages=[HumanMessagePromptTemplate(prompt=PromptTemplate(input_variables=['context', 'question'], input_types={}, partial_variables={}, template=\"You are an assistant for question-answering tasks. Use the following pieces of retrieved context to answer the question. If you don't know the answer, just say that you don't know. Use three sentences maximum and keep the answer concise.\\nQuestion: {question} \\nContext: {context} \\nAnswer:\"), additional_kwargs={})])"
      ]
     },
     "execution_count": 63,
     "metadata": {},
     "output_type": "execute_result"
    }
   ],
   "execution_count": 63
  },
  {
   "metadata": {
    "ExecuteTime": {
     "end_time": "2025-10-04T05:58:09.782206Z",
     "start_time": "2025-10-04T05:58:09.778769Z"
    }
   },
   "cell_type": "code",
   "source": [
    "from langchain.chains import RetrievalQA\n",
    "qa_chain = RetrievalQA.from_chain_type(\n",
    "    llm,\n",
    "    retriever=database.as_retriever(),\n",
    "    chain_type_kwargs={\"prompt\": prompt}\n",
    ")"
   ],
   "id": "15cdba1edea4851f",
   "outputs": [],
   "execution_count": 64
  },
  {
   "metadata": {
    "ExecuteTime": {
     "end_time": "2025-10-04T05:58:29.298707Z",
     "start_time": "2025-10-04T05:58:23.581778Z"
    }
   },
   "cell_type": "code",
   "source": "ai_message = qa_chain({\"query\": query})",
   "id": "61069346cfd7b6b2",
   "outputs": [],
   "execution_count": 66
  },
  {
   "metadata": {
    "ExecuteTime": {
     "end_time": "2025-10-04T05:58:37.452020Z",
     "start_time": "2025-10-04T05:58:37.449848Z"
    }
   },
   "cell_type": "code",
   "source": "ai_message",
   "id": "a49b7b4ba4674ab7",
   "outputs": [
    {
     "data": {
      "text/plain": [
       "{'query': '연봉 5천만원인 직장인의 소득세는 얼마인가요?',\n",
       " 'result': '연봉 5천만원인 직장인의 근로소득에 대한 소득세는 기본세율이 적용됩니다. 소득세의 기본세율은 근로소득에 대한 세율로, 이를 계산하기 위해서는 구체적인 세율 표나 기타 공제를 고려해야 합니다. 일반적으로 소득세는 누진세 구조를 가지며, 정확한 계산을 위해서는 소득 금액대별 세율을 확인해야 합니다.'}"
      ]
     },
     "execution_count": 67,
     "metadata": {},
     "output_type": "execute_result"
    }
   ],
   "execution_count": 67
  },
  {
   "metadata": {},
   "cell_type": "code",
   "outputs": [],
   "execution_count": null,
   "source": "",
   "id": "6e8de88dffb6167b"
  }
 ],
 "metadata": {
  "kernelspec": {
   "display_name": "Python 3",
   "language": "python",
   "name": "python3"
  },
  "language_info": {
   "codemirror_mode": {
    "name": "ipython",
    "version": 2
   },
   "file_extension": ".py",
   "mimetype": "text/x-python",
   "name": "python",
   "nbconvert_exporter": "python",
   "pygments_lexer": "ipython2",
   "version": "2.7.6"
  }
 },
 "nbformat": 4,
 "nbformat_minor": 5
}
